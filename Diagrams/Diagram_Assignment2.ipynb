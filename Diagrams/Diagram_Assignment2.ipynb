{
  "nbformat": 4,
  "nbformat_minor": 0,
  "metadata": {
    "colab": {
      "provenance": []
    },
    "kernelspec": {
      "name": "python3",
      "display_name": "Python 3"
    },
    "language_info": {
      "name": "python"
    }
  },
  "cells": [
    {
      "cell_type": "code",
      "execution_count": 2,
      "metadata": {
        "colab": {
          "base_uri": "https://localhost:8080/"
        },
        "id": "hv0zvm6NYglr",
        "outputId": "732bc357-2eb6-4086-e87c-32a30e49706a"
      },
      "outputs": [
        {
          "output_type": "stream",
          "name": "stdout",
          "text": [
            "Collecting diagrams\n",
            "  Downloading diagrams-0.23.4-py3-none-any.whl.metadata (7.0 kB)\n",
            "Requirement already satisfied: graphviz<0.21.0,>=0.13.2 in /usr/local/lib/python3.10/dist-packages (from diagrams) (0.20.3)\n",
            "Requirement already satisfied: jinja2<4.0,>=2.10 in /usr/local/lib/python3.10/dist-packages (from diagrams) (3.1.4)\n",
            "Collecting typed-ast<2.0.0,>=1.5.4 (from diagrams)\n",
            "  Downloading typed_ast-1.5.5-cp310-cp310-manylinux_2_17_x86_64.manylinux2014_x86_64.whl.metadata (1.7 kB)\n",
            "Requirement already satisfied: MarkupSafe>=2.0 in /usr/local/lib/python3.10/dist-packages (from jinja2<4.0,>=2.10->diagrams) (2.1.5)\n",
            "Downloading diagrams-0.23.4-py3-none-any.whl (24.6 MB)\n",
            "\u001b[2K   \u001b[90m━━━━━━━━━━━━━━━━━━━━━━━━━━━━━━━━━━━━━━━━\u001b[0m \u001b[32m24.6/24.6 MB\u001b[0m \u001b[31m41.9 MB/s\u001b[0m eta \u001b[36m0:00:00\u001b[0m\n",
            "\u001b[?25hDownloading typed_ast-1.5.5-cp310-cp310-manylinux_2_17_x86_64.manylinux2014_x86_64.whl (824 kB)\n",
            "\u001b[2K   \u001b[90m━━━━━━━━━━━━━━━━━━━━━━━━━━━━━━━━━━━━━━━━\u001b[0m \u001b[32m824.7/824.7 kB\u001b[0m \u001b[31m36.9 MB/s\u001b[0m eta \u001b[36m0:00:00\u001b[0m\n",
            "\u001b[?25hInstalling collected packages: typed-ast, diagrams\n",
            "Successfully installed diagrams-0.23.4 typed-ast-1.5.5\n"
          ]
        }
      ],
      "source": [
        "pip install diagrams"
      ]
    },
    {
      "cell_type": "code",
      "source": [
        "from google.colab import drive\n",
        "drive.mount('/content/drive')"
      ],
      "metadata": {
        "colab": {
          "base_uri": "https://localhost:8080/"
        },
        "id": "ckUyJzESkEH_",
        "outputId": "5b9fb77a-dca1-4cd0-9b6e-ffd376e5e8ff"
      },
      "execution_count": 28,
      "outputs": [
        {
          "output_type": "stream",
          "name": "stdout",
          "text": [
            "Drive already mounted at /content/drive; to attempt to forcibly remount, call drive.mount(\"/content/drive\", force_remount=True).\n"
          ]
        }
      ]
    },
    {
      "cell_type": "code",
      "source": [
        "# Import required modules from diagrams\n",
        "from diagrams import Diagram, Cluster, Edge\n",
        "from diagrams.gcp.database import SQL\n",
        "from diagrams.gcp.storage import GCS\n",
        "from diagrams.onprem.workflow import Airflow\n",
        "from diagrams.onprem.container import Docker\n",
        "from diagrams.custom import Custom\n",
        "from diagrams.programming.language import Python"
      ],
      "metadata": {
        "id": "o1pDTtgwliCd"
      },
      "execution_count": 35,
      "outputs": []
    },
    {
      "cell_type": "code",
      "source": [
        "# Create the diagram with smaller clusters\n",
        "with Diagram(\"Architecture Diagram\", show=True):\n",
        "    # Data Ingestion with Docker icon only for GAIA Dataset, Airflow, and GCP Bucket\n",
        "    with Cluster(\"Data Ingestion\"):\n",
        "        with Cluster(\"Docker\"):\n",
        "            docker_icon_ingestion = Docker(\"Docker\")\n",
        "            gaia_dataset = Custom(\"GAIA Dataset\", \"/content/gaia.png\")  # Adjust path as needed\n",
        "            airflow = Airflow(\"Airflow\")\n",
        "            gcp_bucket = GCS(\"GCP Bucket\")\n",
        "\n",
        "            # Define relationships within the Docker container\n",
        "            gaia_dataset >> airflow >> gcp_bucket\n",
        "            docker_icon_ingestion - Edge(label=\"runs on\") - gaia_dataset\n",
        "\n",
        "        # Metadata and GCP SQL outside the Docker container\n",
        "        metadata = Custom(\"Metadata\", \"/content/json.png\")  # Adjust path as needed\n",
        "        gcp_sql = SQL(\"GCP SQL\")\n",
        "        metadata >> gcp_sql\n",
        "\n",
        "    # API & Client section with smaller clusters\n",
        "    with Cluster(\"API & Client\"):\n",
        "        # FastAPI and OpenAI in a Docker environment but in separate clusters\n",
        "        with Cluster(\"Docker\"):\n",
        "            docker_icon_api = Docker(\"Docker\")\n",
        "\n",
        "            # Smaller clusters for FastAPI and OpenAI\n",
        "            fastapi = Custom(\"FastAPI\", \"/content/fastapi.png\")  # Adjust path for a different FastAPI image\n",
        "            openai = Custom(\"OpenAI\", \"/content/openai.png\")  # Adjust path as needed\n",
        "\n",
        "            # Connect FastAPI to OpenAI within the Docker environment\n",
        "            fastapi >> openai\n",
        "            openai >> fastapi\n",
        "\n",
        "            # Show that FastAPI and OpenAI run in one Docker container\n",
        "            docker_icon_api - Edge(label=\"runs on\") - fastapi\n",
        "\n",
        "        # Streamlit in a separate Docker container with a bi-directional arrow to FastAPI\n",
        "        with Cluster(\"Docker\"):\n",
        "            streamlit = Python(\"Streamlit\")\n",
        "            streamlit << Edge(label=\"communicates with\", forward=False) >> fastapi\n",
        "\n",
        "        # Docker icon for Streamlit\n",
        "        docker_icon_streamlit = Docker(\"Docker\")\n",
        "        docker_icon_streamlit - Edge(label=\"runs on\") - streamlit\n",
        "\n",
        "    # Connect FastAPI to the Data Ingestion component (using Airflow as a representative)\n",
        "    fastapi << Edge(label=\"connects to Data Ingestion\") >> airflow"
      ],
      "metadata": {
        "id": "YwiqpCVBlkwb"
      },
      "execution_count": 38,
      "outputs": []
    }
  ]
}